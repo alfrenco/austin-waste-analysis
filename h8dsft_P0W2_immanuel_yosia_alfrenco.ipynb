{
  "cells": [
    {
      "cell_type": "markdown",
      "metadata": {
        "id": "M5vK-l1uG-9G"
      },
      "source": [
        "# Perkenalan"
      ]
    },
    {
      "cell_type": "markdown",
      "metadata": {
        "id": "md-omXmOHDW3"
      },
      "source": [
        "Nama : Immanuel Yosia Alfrenco\n",
        "\n",
        "\n",
        "---\n",
        "\n"
      ]
    },
    {
      "cell_type": "markdown",
      "metadata": {
        "id": "vWrUV4AUHkgh"
      },
      "source": [
        "Pertama kita harus memasukan data yang akan digunakan dalam tugas ini yang sudah diperoleh dengan melakukan query pada Google Cloud Big Query"
      ]
    },
    {
      "cell_type": "code",
      "execution_count": 59,
      "metadata": {
        "id": "5gIQEiRUH0cD"
      },
      "outputs": [],
      "source": [
        "# Query yang digunakan pada Google Cloud Big Query\n",
        "# SELECT report_date, load_time, load_type, load_weight, dropoff_site FROM `bigquery-public-data.austin_waste.waste_and_diversion` WHERE report_date >= '2021-01-01' ORDER BY report_date"
      ]
    },
    {
      "cell_type": "markdown",
      "metadata": {
        "id": "uHEDvxLBK3rV"
      },
      "source": [
        "# Import Library"
      ]
    },
    {
      "cell_type": "markdown",
      "metadata": {
        "id": "TPi-7pQ5IExD"
      },
      "source": [
        "Sebelum memulai mengolah data kita harus melakukan import terlebih dahulu semua library yang nantinya akan digunakan dalam analisa ini"
      ]
    },
    {
      "cell_type": "code",
      "execution_count": 1,
      "metadata": {
        "id": "U5mp6fUZIPdV"
      },
      "outputs": [],
      "source": [
        "import pandas as pd\n",
        "from scipy import stats\n",
        "import numpy as np\n",
        "import matplotlib.pyplot as plt\n",
        "import seaborn as sns"
      ]
    },
    {
      "cell_type": "markdown",
      "metadata": {
        "id": "oH5lfGGJK93t"
      },
      "source": [
        "# Load Data"
      ]
    },
    {
      "cell_type": "markdown",
      "metadata": {
        "id": "8LIs-wGnI2uu"
      },
      "source": [
        "Setelah import library kita akan load data yang akan digunakan"
      ]
    },
    {
      "cell_type": "code",
      "execution_count": 2,
      "metadata": {
        "id": "lYIUBnQWI83s"
      },
      "outputs": [],
      "source": [
        "# Memasukan data csv yang akan digunakan\n",
        "df = pd.read_csv('h8dsft_P0GC2_immanuel_yosia_alfrenco.csv')"
      ]
    },
    {
      "cell_type": "markdown",
      "metadata": {
        "id": "rZS_NhKEKUd9"
      },
      "source": [
        "Setelah melakukan import kita harus mengecek head dan tail dari data yang akan digunakan"
      ]
    },
    {
      "cell_type": "code",
      "execution_count": 3,
      "metadata": {
        "colab": {
          "base_uri": "https://localhost:8080/"
        },
        "id": "ca1HbtJMKTwI",
        "outputId": "379af397-208e-41e1-af06-7f20460563d0"
      },
      "outputs": [
        {
          "data": {
            "text/plain": [
              "(26157, 5)"
            ]
          },
          "execution_count": 3,
          "metadata": {},
          "output_type": "execute_result"
        }
      ],
      "source": [
        "# Mengecek bentuk dari data\n",
        "df.shape"
      ]
    },
    {
      "cell_type": "code",
      "execution_count": 4,
      "metadata": {
        "colab": {
          "base_uri": "https://localhost:8080/",
          "height": 206
        },
        "id": "_uHu8jl3LcsG",
        "outputId": "e7750b73-ae17-4c0e-eac2-22f62df9c4e4"
      },
      "outputs": [
        {
          "data": {
            "text/html": [
              "<div>\n",
              "<style scoped>\n",
              "    .dataframe tbody tr th:only-of-type {\n",
              "        vertical-align: middle;\n",
              "    }\n",
              "\n",
              "    .dataframe tbody tr th {\n",
              "        vertical-align: top;\n",
              "    }\n",
              "\n",
              "    .dataframe thead th {\n",
              "        text-align: right;\n",
              "    }\n",
              "</style>\n",
              "<table border=\"1\" class=\"dataframe\">\n",
              "  <thead>\n",
              "    <tr style=\"text-align: right;\">\n",
              "      <th></th>\n",
              "      <th>report_date</th>\n",
              "      <th>load_time</th>\n",
              "      <th>load_type</th>\n",
              "      <th>load_weight</th>\n",
              "      <th>dropoff_site</th>\n",
              "    </tr>\n",
              "  </thead>\n",
              "  <tbody>\n",
              "    <tr>\n",
              "      <th>0</th>\n",
              "      <td>2021-01-01</td>\n",
              "      <td>2021-01-01 12:00:00 UTC</td>\n",
              "      <td>SWEEPING</td>\n",
              "      <td>NaN</td>\n",
              "      <td>ONION CREEK</td>\n",
              "    </tr>\n",
              "    <tr>\n",
              "      <th>1</th>\n",
              "      <td>2021-01-01</td>\n",
              "      <td>2021-01-01 12:00:00 UTC</td>\n",
              "      <td>SWEEPING</td>\n",
              "      <td>NaN</td>\n",
              "      <td>ONION CREEK</td>\n",
              "    </tr>\n",
              "    <tr>\n",
              "      <th>2</th>\n",
              "      <td>2021-01-01</td>\n",
              "      <td>2021-01-01 12:00:00 UTC</td>\n",
              "      <td>SWEEPING</td>\n",
              "      <td>NaN</td>\n",
              "      <td>ONION CREEK</td>\n",
              "    </tr>\n",
              "    <tr>\n",
              "      <th>3</th>\n",
              "      <td>2021-01-01</td>\n",
              "      <td>2021-01-01 12:00:00 UTC</td>\n",
              "      <td>SWEEPING</td>\n",
              "      <td>NaN</td>\n",
              "      <td>ONION CREEK</td>\n",
              "    </tr>\n",
              "    <tr>\n",
              "      <th>4</th>\n",
              "      <td>2021-01-02</td>\n",
              "      <td>2021-01-02 09:24:00 UTC</td>\n",
              "      <td>TIRES</td>\n",
              "      <td>1640.0</td>\n",
              "      <td>MRF</td>\n",
              "    </tr>\n",
              "  </tbody>\n",
              "</table>\n",
              "</div>"
            ],
            "text/plain": [
              "  report_date                load_time load_type  load_weight dropoff_site\n",
              "0  2021-01-01  2021-01-01 12:00:00 UTC  SWEEPING          NaN  ONION CREEK\n",
              "1  2021-01-01  2021-01-01 12:00:00 UTC  SWEEPING          NaN  ONION CREEK\n",
              "2  2021-01-01  2021-01-01 12:00:00 UTC  SWEEPING          NaN  ONION CREEK\n",
              "3  2021-01-01  2021-01-01 12:00:00 UTC  SWEEPING          NaN  ONION CREEK\n",
              "4  2021-01-02  2021-01-02 09:24:00 UTC     TIRES       1640.0          MRF"
            ]
          },
          "execution_count": 4,
          "metadata": {},
          "output_type": "execute_result"
        }
      ],
      "source": [
        "# Mengecek head dari data\n",
        "df.head()"
      ]
    },
    {
      "cell_type": "code",
      "execution_count": 5,
      "metadata": {
        "colab": {
          "base_uri": "https://localhost:8080/",
          "height": 206
        },
        "id": "Gb8VSMujLmls",
        "outputId": "63456a68-7dd2-4a1e-b6bf-e58b2e6c824e"
      },
      "outputs": [
        {
          "data": {
            "text/html": [
              "<div>\n",
              "<style scoped>\n",
              "    .dataframe tbody tr th:only-of-type {\n",
              "        vertical-align: middle;\n",
              "    }\n",
              "\n",
              "    .dataframe tbody tr th {\n",
              "        vertical-align: top;\n",
              "    }\n",
              "\n",
              "    .dataframe thead th {\n",
              "        text-align: right;\n",
              "    }\n",
              "</style>\n",
              "<table border=\"1\" class=\"dataframe\">\n",
              "  <thead>\n",
              "    <tr style=\"text-align: right;\">\n",
              "      <th></th>\n",
              "      <th>report_date</th>\n",
              "      <th>load_time</th>\n",
              "      <th>load_type</th>\n",
              "      <th>load_weight</th>\n",
              "      <th>dropoff_site</th>\n",
              "    </tr>\n",
              "  </thead>\n",
              "  <tbody>\n",
              "    <tr>\n",
              "      <th>26152</th>\n",
              "      <td>2021-07-09</td>\n",
              "      <td>2021-07-09 09:48:00 UTC</td>\n",
              "      <td>BRUSH</td>\n",
              "      <td>8240.0</td>\n",
              "      <td>HORNSBY BEND</td>\n",
              "    </tr>\n",
              "    <tr>\n",
              "      <th>26153</th>\n",
              "      <td>2021-07-09</td>\n",
              "      <td>2021-07-09 12:02:00 UTC</td>\n",
              "      <td>BRUSH</td>\n",
              "      <td>4160.0</td>\n",
              "      <td>HORNSBY BEND</td>\n",
              "    </tr>\n",
              "    <tr>\n",
              "      <th>26154</th>\n",
              "      <td>2021-07-09</td>\n",
              "      <td>2021-07-09 11:55:00 UTC</td>\n",
              "      <td>BRUSH</td>\n",
              "      <td>4340.0</td>\n",
              "      <td>HORNSBY BEND</td>\n",
              "    </tr>\n",
              "    <tr>\n",
              "      <th>26155</th>\n",
              "      <td>2021-07-09</td>\n",
              "      <td>2021-07-09 12:00:00 UTC</td>\n",
              "      <td>LITTER</td>\n",
              "      <td>1900.0</td>\n",
              "      <td>TDS LANDFILL</td>\n",
              "    </tr>\n",
              "    <tr>\n",
              "      <th>26156</th>\n",
              "      <td>2021-07-09</td>\n",
              "      <td>2021-07-09 12:00:00 UTC</td>\n",
              "      <td>LITTER</td>\n",
              "      <td>3040.0</td>\n",
              "      <td>TDS LANDFILL</td>\n",
              "    </tr>\n",
              "  </tbody>\n",
              "</table>\n",
              "</div>"
            ],
            "text/plain": [
              "      report_date                load_time load_type  load_weight  \\\n",
              "26152  2021-07-09  2021-07-09 09:48:00 UTC     BRUSH       8240.0   \n",
              "26153  2021-07-09  2021-07-09 12:02:00 UTC     BRUSH       4160.0   \n",
              "26154  2021-07-09  2021-07-09 11:55:00 UTC     BRUSH       4340.0   \n",
              "26155  2021-07-09  2021-07-09 12:00:00 UTC    LITTER       1900.0   \n",
              "26156  2021-07-09  2021-07-09 12:00:00 UTC    LITTER       3040.0   \n",
              "\n",
              "       dropoff_site  \n",
              "26152  HORNSBY BEND  \n",
              "26153  HORNSBY BEND  \n",
              "26154  HORNSBY BEND  \n",
              "26155  TDS LANDFILL  \n",
              "26156  TDS LANDFILL  "
            ]
          },
          "execution_count": 5,
          "metadata": {},
          "output_type": "execute_result"
        }
      ],
      "source": [
        "# Mengecek tail dari data\n",
        "df.tail()"
      ]
    },
    {
      "cell_type": "markdown",
      "metadata": {},
      "source": [
        "Dari head dan tail kita bisa melihat ternyata ada beberapa missing values pada kolom `load_weight`"
      ]
    },
    {
      "cell_type": "code",
      "execution_count": 6,
      "metadata": {
        "colab": {
          "base_uri": "https://localhost:8080/"
        },
        "id": "8JP7nzuNLrK7",
        "outputId": "89c2b955-c68d-43ff-ccc9-ea1eb4bce366"
      },
      "outputs": [
        {
          "name": "stdout",
          "output_type": "stream",
          "text": [
            "<class 'pandas.core.frame.DataFrame'>\n",
            "RangeIndex: 26157 entries, 0 to 26156\n",
            "Data columns (total 5 columns):\n",
            " #   Column        Non-Null Count  Dtype  \n",
            "---  ------        --------------  -----  \n",
            " 0   report_date   26157 non-null  object \n",
            " 1   load_time     26157 non-null  object \n",
            " 2   load_type     26157 non-null  object \n",
            " 3   load_weight   25109 non-null  float64\n",
            " 4   dropoff_site  26157 non-null  object \n",
            "dtypes: float64(1), object(4)\n",
            "memory usage: 1021.9+ KB\n"
          ]
        }
      ],
      "source": [
        "# Mengecek informasi dari data\n",
        "df.info()"
      ]
    },
    {
      "cell_type": "markdown",
      "metadata": {},
      "source": [
        "Kita bisa melihat data kita memiliki 5 kolom dimana ada 1 kolom numeric dan 4 kolom object."
      ]
    },
    {
      "cell_type": "markdown",
      "metadata": {
        "id": "aoB3idovHEVX"
      },
      "source": [
        "# Problem 1 (Stats)"
      ]
    },
    {
      "cell_type": "markdown",
      "metadata": {
        "id": "Om0OKtIvL2bO"
      },
      "source": [
        "## 1\n",
        "\n",
        "Sebelum melakukan perhitungan dan analisa statistik, lakukan pembersihan data terlebih dahulu. Pastikan tidak ada missing value, dsb."
      ]
    },
    {
      "cell_type": "markdown",
      "metadata": {
        "id": "-d6TVlezL4Dp"
      },
      "source": [
        "Setelah melakukan load data, kita harus melakukan cleaning pada data atau membersihkan missing value pada data yang akan digunakan sebelum dilakukan analisis."
      ]
    },
    {
      "cell_type": "code",
      "execution_count": 7,
      "metadata": {
        "colab": {
          "base_uri": "https://localhost:8080/"
        },
        "id": "ZPgVSGISMy_G",
        "outputId": "db240e07-57fe-4daa-fd29-9c862dc9e44a"
      },
      "outputs": [
        {
          "data": {
            "text/plain": [
              "report_date        0\n",
              "load_time          0\n",
              "load_type          0\n",
              "load_weight     1048\n",
              "dropoff_site       0\n",
              "dtype: int64"
            ]
          },
          "execution_count": 7,
          "metadata": {},
          "output_type": "execute_result"
        }
      ],
      "source": [
        "# Mengecek jumlah missing values pada tiap kolom\n",
        "df.isnull().sum()"
      ]
    },
    {
      "cell_type": "markdown",
      "metadata": {},
      "source": [
        "Kita bisa melihat terdapat 1048 missing values pada kolom `load_weight`"
      ]
    },
    {
      "cell_type": "markdown",
      "metadata": {
        "id": "mbCKvhSPPSvn"
      },
      "source": [
        "`Load_weight` merupakan kolom yang berisi data numerik dimana untuk mengisi missing valuesnya kita harus mengecek tipe persebaran datanya terlebih dahulu. \n",
        "\n",
        "Jika data `load_weight` berdistribusi normal maka missing values akan kita ganti menggunakan mean dari data. \n",
        "\n",
        "Jika data `load_weight` bertipe skewed maka missing values akan kita ganti menggunakan median dari data."
      ]
    },
    {
      "cell_type": "code",
      "execution_count": 8,
      "metadata": {
        "colab": {
          "base_uri": "https://localhost:8080/",
          "height": 338
        },
        "id": "j9cwAwuINBFa",
        "outputId": "a6a5686b-c9f9-4678-f980-9457f8d8d451"
      },
      "outputs": [
        {
          "name": "stdout",
          "output_type": "stream",
          "text": [
            "Skewness value :  3.335938213321684\n"
          ]
        },
        {
          "data": {
            "image/png": "[encoded data removed]",
            "text/plain": [
              "<Figure size 720x360 with 1 Axes>"
            ]
          },
          "metadata": {
            "needs_background": "light"
          },
          "output_type": "display_data"
        }
      ],
      "source": [
        "# Mengecek tipe persebaran data pada kolom load weight\n",
        "\n",
        "print('Skewness value : ', df['load_weight'].skew())\n",
        "df['load_weight'].hist(bins=50, figsize=(10,5), color='maroon')\n",
        "plt.show()"
      ]
    },
    {
      "cell_type": "markdown",
      "metadata": {
        "id": "QAdEtnxMQdDA"
      },
      "source": [
        "Ternyata kolom `load_weight` bertipe skewed atau lebih tepatnya right skew, maka missing values dari kolom `load_weight` akan digantikan dengan median dari kolom tersebut."
      ]
    },
    {
      "cell_type": "code",
      "execution_count": 9,
      "metadata": {
        "colab": {
          "base_uri": "https://localhost:8080/"
        },
        "id": "tvjtp9OwRGiu",
        "outputId": "c7a9f6d7-8bff-4888-eb91-027a98fce65b"
      },
      "outputs": [
        {
          "data": {
            "text/plain": [
              "report_date     0\n",
              "load_time       0\n",
              "load_type       0\n",
              "load_weight     0\n",
              "dropoff_site    0\n",
              "dtype: int64"
            ]
          },
          "execution_count": 9,
          "metadata": {},
          "output_type": "execute_result"
        }
      ],
      "source": [
        "df['load_weight'] = df['load_weight'].fillna(df['load_weight'].median())\n",
        "df.isnull().sum()"
      ]
    },
    {
      "cell_type": "markdown",
      "metadata": {},
      "source": [
        "Sekarang sudah tidak ada lagi missing values pada kolom `load_weight`"
      ]
    },
    {
      "cell_type": "markdown",
      "metadata": {
        "id": "00eAlTKtAdxv"
      },
      "source": [
        "## 2\n",
        "\n",
        "Selanjutnya, lakukan eksplorasi data sederhana guna mengetahui dan mengenali data yang kamu punya. Kamu bisa lakukan hal-hal berikut untuk mengeksplorasi data kamu."
      ]
    },
    {
      "cell_type": "markdown",
      "metadata": {
        "id": "mZFYxDW3e6so"
      },
      "source": [
        "Kita ingin melihat rentang waktu pengumpulan data sepanjang 2021"
      ]
    },
    {
      "cell_type": "code",
      "execution_count": 98,
      "metadata": {
        "colab": {
          "base_uri": "https://localhost:8080/"
        },
        "id": "sSGlFGs7VaAA",
        "outputId": "00dbe278-7548-45b7-ba0c-09c713543dab"
      },
      "outputs": [
        {
          "name": "stdout",
          "output_type": "stream",
          "text": [
            "Rentang waktu pengambilan data selama tahun 2021 adalah 189 hari\n"
          ]
        }
      ],
      "source": [
        "# Mencoba menghitung rentang waktu data\n",
        "\n",
        "df['report_date'] = pd.to_datetime(df['report_date']) # digunakan untuk merubah tipe data kolom report date menjadi datetime\n",
        "start_date = df['report_date'].iloc[0]\n",
        "end_date = df['report_date'].iloc[-1]\n",
        "span = (end_date - start_date) / np.timedelta64(1, 'D')\n",
        "print(f'Rentang waktu pengambilan data selama tahun 2021 adalah {int(span)} hari')"
      ]
    },
    {
      "cell_type": "markdown",
      "metadata": {
        "id": "LN_YAiTrBReU"
      },
      "source": [
        "\n",
        "\n",
        "---\n",
        "\n",
        "\n",
        "Kita bisa melihat juga tipe-tipe load sampah yang ada di kota Austin"
      ]
    },
    {
      "cell_type": "code",
      "execution_count": 99,
      "metadata": {
        "colab": {
          "base_uri": "https://localhost:8080/"
        },
        "id": "ei_i6K4lKJtD",
        "outputId": "cbb7d9b0-d6fe-49f4-ab19-6543ebbf5070"
      },
      "outputs": [
        {
          "data": {
            "text/plain": [
              "array(['SWEEPING', 'TIRES', 'RECYCLING - SINGLE STREAM', 'YARD TRIMMING',\n",
              "       'BULK', 'DEAD ANIMAL', 'GARBAGE COLLECTIONS', 'MIXED LITTER',\n",
              "       'ORGANICS', 'BRUSH', 'RECYCLED METAL', 'LITTER',\n",
              "       'CONTAMINATED RECYCLING', 'CONTAMINATED ORGANICS'], dtype=object)"
            ]
          },
          "execution_count": 99,
          "metadata": {},
          "output_type": "execute_result"
        }
      ],
      "source": [
        "df['load_type'].unique()"
      ]
    },
    {
      "cell_type": "markdown",
      "metadata": {
        "id": "tNno2aMMMh_p"
      },
      "source": [
        "\n",
        "\n",
        "---\n",
        "\n",
        "\n",
        "Kita juga bisa mengetahui tempat pembuangan sampah di kota Austin ada dimana saja"
      ]
    },
    {
      "cell_type": "code",
      "execution_count": 100,
      "metadata": {
        "colab": {
          "base_uri": "https://localhost:8080/"
        },
        "id": "ePftWvC4Mhhs",
        "outputId": "67166f40-89c2-425f-cf1e-b1ba72db14fe"
      },
      "outputs": [
        {
          "data": {
            "text/plain": [
              "array(['ONION CREEK', 'MRF', 'TDS - MRF', 'HORNSBY BEND', 'TDS LANDFILL',\n",
              "       'ORGANICS BY GOSH', 'BALCONES RECYCLING', 'AUSTIN IRON AND METAL',\n",
              "       'PARK CENTER', 'ON ROUTE HIGH DUMP', 'WILCAB', 'GREAT NORTHERN',\n",
              "       'AUSTIN WOOD RECYCLING', 'PARK BEND', 'BALCONES WOODS',\n",
              "       'STEINER LANDFILL', 'WESTFIELD', 'ST. EDWARDS'], dtype=object)"
            ]
          },
          "execution_count": 100,
          "metadata": {},
          "output_type": "execute_result"
        }
      ],
      "source": [
        "df['dropoff_site'].unique()"
      ]
    },
    {
      "cell_type": "markdown",
      "metadata": {
        "id": "EnIdJY1UOYNG"
      },
      "source": [
        "\n",
        "\n",
        "---\n",
        "\n",
        "Kita juga ingin mengetahui berapa berat sampah tertinggi yang ada di dalam data"
      ]
    },
    {
      "cell_type": "code",
      "execution_count": 101,
      "metadata": {
        "colab": {
          "base_uri": "https://localhost:8080/"
        },
        "id": "GXivBIocN9GK",
        "outputId": "7d3aaa91-2e35-4f8c-f415-0b9883884d7f"
      },
      "outputs": [
        {
          "data": {
            "text/plain": [
              "245540.0"
            ]
          },
          "execution_count": 101,
          "metadata": {},
          "output_type": "execute_result"
        }
      ],
      "source": [
        "df['load_weight'].max()"
      ]
    },
    {
      "cell_type": "code",
      "execution_count": 102,
      "metadata": {
        "colab": {
          "base_uri": "https://localhost:8080/"
        },
        "id": "u3aGfcK7Og6p",
        "outputId": "cac847d9-a597-432d-ff4f-5049a53d90aa"
      },
      "outputs": [
        {
          "data": {
            "text/plain": [
              "load_type\n",
              "BRUSH                         19660.0\n",
              "BULK                          28000.0\n",
              "CONTAMINATED ORGANICS         25380.0\n",
              "CONTAMINATED RECYCLING         5160.0\n",
              "DEAD ANIMAL                    1720.0\n",
              "GARBAGE COLLECTIONS          245540.0\n",
              "LITTER                        16700.0\n",
              "MIXED LITTER                  10560.0\n",
              "ORGANICS                      29660.0\n",
              "RECYCLED METAL                20760.0\n",
              "RECYCLING - SINGLE STREAM     27060.0\n",
              "SWEEPING                      22760.0\n",
              "TIRES                         18940.0\n",
              "YARD TRIMMING                 20460.0\n",
              "Name: load_weight, dtype: float64"
            ]
          },
          "execution_count": 102,
          "metadata": {},
          "output_type": "execute_result"
        }
      ],
      "source": [
        "df.groupby('load_type')['load_weight'].max()"
      ]
    },
    {
      "cell_type": "markdown",
      "metadata": {
        "id": "lOHDByqBOnzl"
      },
      "source": [
        "Dari data di atas kita bisa melihat jenis sampah garbage collection memiliki berat muatan tertinggi dalam data, sedangkan jenis sampah dead animal memiliki berat muatan paling kecil dalam data."
      ]
    },
    {
      "cell_type": "markdown",
      "metadata": {
        "id": "UyrkXCkGPQ_Z"
      },
      "source": [
        "## 3\n",
        "\n",
        "Berdasarkan central tendency (mean, median, dan modus) untuk masing-masing site, insight/informasi apa yang bisa kamu sampaikan kepada pemerintah kota?"
      ]
    },
    {
      "cell_type": "markdown",
      "metadata": {
        "id": "RKrwMZ5BPPlL"
      },
      "source": [
        "\n",
        "\n",
        "---\n",
        "\n",
        "Selanjutnya kita ingin mencari central tendency dari tiap site "
      ]
    },
    {
      "cell_type": "code",
      "execution_count": 103,
      "metadata": {
        "colab": {
          "base_uri": "https://localhost:8080/",
          "height": 645
        },
        "id": "4CHMnDcvRzCD",
        "outputId": "67d2fb54-275f-4a1e-809d-cf4c76c06d9a"
      },
      "outputs": [
        {
          "data": {
            "text/html": [
              "\n",
              "  <div id=\"df-ba61b592-d8eb-44f4-bdef-b37a507cf836\">\n",
              "    <div class=\"colab-df-container\">\n",
              "      <div>\n",
              "<style scoped>\n",
              "    .dataframe tbody tr th:only-of-type {\n",
              "        vertical-align: middle;\n",
              "    }\n",
              "\n",
              "    .dataframe tbody tr th {\n",
              "        vertical-align: top;\n",
              "    }\n",
              "\n",
              "    .dataframe thead th {\n",
              "        text-align: right;\n",
              "    }\n",
              "</style>\n",
              "<table border=\"1\" class=\"dataframe\">\n",
              "  <thead>\n",
              "    <tr style=\"text-align: right;\">\n",
              "      <th></th>\n",
              "      <th>load_weight</th>\n",
              "    </tr>\n",
              "    <tr>\n",
              "      <th>dropoff_site</th>\n",
              "      <th></th>\n",
              "    </tr>\n",
              "  </thead>\n",
              "  <tbody>\n",
              "    <tr>\n",
              "      <th>AUSTIN IRON AND METAL</th>\n",
              "      <td>451.200000</td>\n",
              "    </tr>\n",
              "    <tr>\n",
              "      <th>AUSTIN WOOD RECYCLING</th>\n",
              "      <td>4050.000000</td>\n",
              "    </tr>\n",
              "    <tr>\n",
              "      <th>BALCONES RECYCLING</th>\n",
              "      <td>9464.652072</td>\n",
              "    </tr>\n",
              "    <tr>\n",
              "      <th>BALCONES WOODS</th>\n",
              "      <td>8460.000000</td>\n",
              "    </tr>\n",
              "    <tr>\n",
              "      <th>GREAT NORTHERN</th>\n",
              "      <td>11973.142857</td>\n",
              "    </tr>\n",
              "    <tr>\n",
              "      <th>HORNSBY BEND</th>\n",
              "      <td>6637.111782</td>\n",
              "    </tr>\n",
              "    <tr>\n",
              "      <th>MRF</th>\n",
              "      <td>1799.982143</td>\n",
              "    </tr>\n",
              "    <tr>\n",
              "      <th>ON ROUTE HIGH DUMP</th>\n",
              "      <td>11405.925926</td>\n",
              "    </tr>\n",
              "    <tr>\n",
              "      <th>ONION CREEK</th>\n",
              "      <td>11300.000000</td>\n",
              "    </tr>\n",
              "    <tr>\n",
              "      <th>ORGANICS BY GOSH</th>\n",
              "      <td>11817.220851</td>\n",
              "    </tr>\n",
              "    <tr>\n",
              "      <th>PARK BEND</th>\n",
              "      <td>13385.000000</td>\n",
              "    </tr>\n",
              "    <tr>\n",
              "      <th>PARK CENTER</th>\n",
              "      <td>11300.000000</td>\n",
              "    </tr>\n",
              "    <tr>\n",
              "      <th>ST. EDWARDS</th>\n",
              "      <td>11300.000000</td>\n",
              "    </tr>\n",
              "    <tr>\n",
              "      <th>STEINER LANDFILL</th>\n",
              "      <td>780.000000</td>\n",
              "    </tr>\n",
              "    <tr>\n",
              "      <th>TDS - MRF</th>\n",
              "      <td>9872.550882</td>\n",
              "    </tr>\n",
              "    <tr>\n",
              "      <th>TDS LANDFILL</th>\n",
              "      <td>15168.321726</td>\n",
              "    </tr>\n",
              "    <tr>\n",
              "      <th>WESTFIELD</th>\n",
              "      <td>16020.000000</td>\n",
              "    </tr>\n",
              "    <tr>\n",
              "      <th>WILCAB</th>\n",
              "      <td>11300.000000</td>\n",
              "    </tr>\n",
              "  </tbody>\n",
              "</table>\n",
              "</div>\n",
              "      <button class=\"colab-df-convert\" onclick=\"convertToInteractive('df-ba61b592-d8eb-44f4-bdef-b37a507cf836')\"\n",
              "              title=\"Convert this dataframe to an interactive table.\"\n",
              "              style=\"display:none;\">\n",
              "        \n",
              "  <svg xmlns=\"http://www.w3.org/2000/svg\" height=\"24px\"viewBox=\"0 0 24 24\"\n",
              "       width=\"24px\">\n",
              "    <path d=\"M0 0h24v24H0V0z\" fill=\"none\"/>\n",
              "    <path d=\"M18.56 5.44l.94 2.06.94-2.06 2.06-.94-2.06-.94-.94-2.06-.94 2.06-2.06.94zm-11 1L8.5 8.5l.94-2.06 2.06-.94-2.06-.94L8.5 2.5l-.94 2.06-2.06.94zm10 10l.94 2.06.94-2.06 2.06-.94-2.06-.94-.94-2.06-.94 2.06-2.06.94z\"/><path d=\"M17.41 7.96l-1.37-1.37c-.4-.4-.92-.59-1.43-.59-.52 0-1.04.2-1.43.59L10.3 9.45l-7.72 7.72c-.78.78-.78 2.05 0 2.83L4 21.41c.39.39.9.59 1.41.59.51 0 1.02-.2 1.41-.59l7.78-7.78 2.81-2.81c.8-.78.8-2.07 0-2.86zM5.41 20L4 18.59l7.72-7.72 1.47 1.35L5.41 20z\"/>\n",
              "  </svg>\n",
              "      </button>\n",
              "      \n",
              "  <style>\n",
              "    .colab-df-container {\n",
              "      display:flex;\n",
              "      flex-wrap:wrap;\n",
              "      gap: 12px;\n",
              "    }\n",
              "\n",
              "    .colab-df-convert {\n",
              "      background-color: #E8F0FE;\n",
              "      border: none;\n",
              "      border-radius: 50%;\n",
              "      cursor: pointer;\n",
              "      display: none;\n",
              "      fill: #1967D2;\n",
              "      height: 32px;\n",
              "      padding: 0 0 0 0;\n",
              "      width: 32px;\n",
              "    }\n",
              "\n",
              "    .colab-df-convert:hover {\n",
              "      background-color: #E2EBFA;\n",
              "      box-shadow: 0px 1px 2px rgba(60, 64, 67, 0.3), 0px 1px 3px 1px rgba(60, 64, 67, 0.15);\n",
              "      fill: #174EA6;\n",
              "    }\n",
              "\n",
              "    [theme=dark] .colab-df-convert {\n",
              "      background-color: #3B4455;\n",
              "      fill: #D2E3FC;\n",
              "    }\n",
              "\n",
              "    [theme=dark] .colab-df-convert:hover {\n",
              "      background-color: #434B5C;\n",
              "      box-shadow: 0px 1px 3px 1px rgba(0, 0, 0, 0.15);\n",
              "      filter: drop-shadow(0px 1px 2px rgba(0, 0, 0, 0.3));\n",
              "      fill: #FFFFFF;\n",
              "    }\n",
              "  </style>\n",
              "\n",
              "      <script>\n",
              "        const buttonEl =\n",
              "          document.querySelector('#df-ba61b592-d8eb-44f4-bdef-b37a507cf836 button.colab-df-convert');\n",
              "        buttonEl.style.display =\n",
              "          google.colab.kernel.accessAllowed ? 'block' : 'none';\n",
              "\n",
              "        async function convertToInteractive(key) {\n",
              "          const element = document.querySelector('#df-ba61b592-d8eb-44f4-bdef-b37a507cf836');\n",
              "          const dataTable =\n",
              "            await google.colab.kernel.invokeFunction('convertToInteractive',\n",
              "                                                     [key], {});\n",
              "          if (!dataTable) return;\n",
              "\n",
              "          const docLinkHtml = 'Like what you see? Visit the ' +\n",
              "            '<a target=\"_blank\" href=https://colab.research.google.com/notebooks/data_table.ipynb>data table notebook</a>'\n",
              "            + ' to learn more about interactive tables.';\n",
              "          element.innerHTML = '';\n",
              "          dataTable['output_type'] = 'display_data';\n",
              "          await google.colab.output.renderOutput(dataTable, element);\n",
              "          const docLink = document.createElement('div');\n",
              "          docLink.innerHTML = docLinkHtml;\n",
              "          element.appendChild(docLink);\n",
              "        }\n",
              "      </script>\n",
              "    </div>\n",
              "  </div>\n",
              "  "
            ],
            "text/plain": [
              "                        load_weight\n",
              "dropoff_site                       \n",
              "AUSTIN IRON AND METAL    451.200000\n",
              "AUSTIN WOOD RECYCLING   4050.000000\n",
              "BALCONES RECYCLING      9464.652072\n",
              "BALCONES WOODS          8460.000000\n",
              "GREAT NORTHERN         11973.142857\n",
              "HORNSBY BEND            6637.111782\n",
              "MRF                     1799.982143\n",
              "ON ROUTE HIGH DUMP     11405.925926\n",
              "ONION CREEK            11300.000000\n",
              "ORGANICS BY GOSH       11817.220851\n",
              "PARK BEND              13385.000000\n",
              "PARK CENTER            11300.000000\n",
              "ST. EDWARDS            11300.000000\n",
              "STEINER LANDFILL         780.000000\n",
              "TDS - MRF               9872.550882\n",
              "TDS LANDFILL           15168.321726\n",
              "WESTFIELD              16020.000000\n",
              "WILCAB                 11300.000000"
            ]
          },
          "execution_count": 103,
          "metadata": {},
          "output_type": "execute_result"
        }
      ],
      "source": [
        "df.groupby(['dropoff_site']).mean()"
      ]
    },
    {
      "cell_type": "code",
      "execution_count": 104,
      "metadata": {
        "colab": {
          "base_uri": "https://localhost:8080/",
          "height": 645
        },
        "id": "I2LK-Rz5ambT",
        "outputId": "26e88dd8-1eda-4ffc-e55b-2a87722273ea"
      },
      "outputs": [
        {
          "data": {
            "text/html": [
              "\n",
              "  <div id=\"df-bcc8d042-a58b-4a85-b4fb-a0cc0e1794b5\">\n",
              "    <div class=\"colab-df-container\">\n",
              "      <div>\n",
              "<style scoped>\n",
              "    .dataframe tbody tr th:only-of-type {\n",
              "        vertical-align: middle;\n",
              "    }\n",
              "\n",
              "    .dataframe tbody tr th {\n",
              "        vertical-align: top;\n",
              "    }\n",
              "\n",
              "    .dataframe thead th {\n",
              "        text-align: right;\n",
              "    }\n",
              "</style>\n",
              "<table border=\"1\" class=\"dataframe\">\n",
              "  <thead>\n",
              "    <tr style=\"text-align: right;\">\n",
              "      <th></th>\n",
              "      <th>load_weight</th>\n",
              "    </tr>\n",
              "    <tr>\n",
              "      <th>dropoff_site</th>\n",
              "      <th></th>\n",
              "    </tr>\n",
              "  </thead>\n",
              "  <tbody>\n",
              "    <tr>\n",
              "      <th>AUSTIN IRON AND METAL</th>\n",
              "      <td>400.0</td>\n",
              "    </tr>\n",
              "    <tr>\n",
              "      <th>AUSTIN WOOD RECYCLING</th>\n",
              "      <td>4050.0</td>\n",
              "    </tr>\n",
              "    <tr>\n",
              "      <th>BALCONES RECYCLING</th>\n",
              "      <td>9840.0</td>\n",
              "    </tr>\n",
              "    <tr>\n",
              "      <th>BALCONES WOODS</th>\n",
              "      <td>8460.0</td>\n",
              "    </tr>\n",
              "    <tr>\n",
              "      <th>GREAT NORTHERN</th>\n",
              "      <td>11300.0</td>\n",
              "    </tr>\n",
              "    <tr>\n",
              "      <th>HORNSBY BEND</th>\n",
              "      <td>6400.0</td>\n",
              "    </tr>\n",
              "    <tr>\n",
              "      <th>MRF</th>\n",
              "      <td>1360.0</td>\n",
              "    </tr>\n",
              "    <tr>\n",
              "      <th>ON ROUTE HIGH DUMP</th>\n",
              "      <td>11300.0</td>\n",
              "    </tr>\n",
              "    <tr>\n",
              "      <th>ONION CREEK</th>\n",
              "      <td>11300.0</td>\n",
              "    </tr>\n",
              "    <tr>\n",
              "      <th>ORGANICS BY GOSH</th>\n",
              "      <td>11900.0</td>\n",
              "    </tr>\n",
              "    <tr>\n",
              "      <th>PARK BEND</th>\n",
              "      <td>12330.0</td>\n",
              "    </tr>\n",
              "    <tr>\n",
              "      <th>PARK CENTER</th>\n",
              "      <td>11300.0</td>\n",
              "    </tr>\n",
              "    <tr>\n",
              "      <th>ST. EDWARDS</th>\n",
              "      <td>11300.0</td>\n",
              "    </tr>\n",
              "    <tr>\n",
              "      <th>STEINER LANDFILL</th>\n",
              "      <td>780.0</td>\n",
              "    </tr>\n",
              "    <tr>\n",
              "      <th>TDS - MRF</th>\n",
              "      <td>10330.0</td>\n",
              "    </tr>\n",
              "    <tr>\n",
              "      <th>TDS LANDFILL</th>\n",
              "      <td>14920.0</td>\n",
              "    </tr>\n",
              "    <tr>\n",
              "      <th>WESTFIELD</th>\n",
              "      <td>16020.0</td>\n",
              "    </tr>\n",
              "    <tr>\n",
              "      <th>WILCAB</th>\n",
              "      <td>11300.0</td>\n",
              "    </tr>\n",
              "  </tbody>\n",
              "</table>\n",
              "</div>\n",
              "      <button class=\"colab-df-convert\" onclick=\"convertToInteractive('df-bcc8d042-a58b-4a85-b4fb-a0cc0e1794b5')\"\n",
              "              title=\"Convert this dataframe to an interactive table.\"\n",
              "              style=\"display:none;\">\n",
              "        \n",
              "  <svg xmlns=\"http://www.w3.org/2000/svg\" height=\"24px\"viewBox=\"0 0 24 24\"\n",
              "       width=\"24px\">\n",
              "    <path d=\"M0 0h24v24H0V0z\" fill=\"none\"/>\n",
              "    <path d=\"M18.56 5.44l.94 2.06.94-2.06 2.06-.94-2.06-.94-.94-2.06-.94 2.06-2.06.94zm-11 1L8.5 8.5l.94-2.06 2.06-.94-2.06-.94L8.5 2.5l-.94 2.06-2.06.94zm10 10l.94 2.06.94-2.06 2.06-.94-2.06-.94-.94-2.06-.94 2.06-2.06.94z\"/><path d=\"M17.41 7.96l-1.37-1.37c-.4-.4-.92-.59-1.43-.59-.52 0-1.04.2-1.43.59L10.3 9.45l-7.72 7.72c-.78.78-.78 2.05 0 2.83L4 21.41c.39.39.9.59 1.41.59.51 0 1.02-.2 1.41-.59l7.78-7.78 2.81-2.81c.8-.78.8-2.07 0-2.86zM5.41 20L4 18.59l7.72-7.72 1.47 1.35L5.41 20z\"/>\n",
              "  </svg>\n",
              "      </button>\n",
              "      \n",
              "  <style>\n",
              "    .colab-df-container {\n",
              "      display:flex;\n",
              "      flex-wrap:wrap;\n",
              "      gap: 12px;\n",
              "    }\n",
              "\n",
              "    .colab-df-convert {\n",
              "      background-color: #E8F0FE;\n",
              "      border: none;\n",
              "      border-radius: 50%;\n",
              "      cursor: pointer;\n",
              "      display: none;\n",
              "      fill: #1967D2;\n",
              "      height: 32px;\n",
              "      padding: 0 0 0 0;\n",
              "      width: 32px;\n",
              "    }\n",
              "\n",
              "    .colab-df-convert:hover {\n",
              "      background-color: #E2EBFA;\n",
              "      box-shadow: 0px 1px 2px rgba(60, 64, 67, 0.3), 0px 1px 3px 1px rgba(60, 64, 67, 0.15);\n",
              "      fill: #174EA6;\n",
              "    }\n",
              "\n",
              "    [theme=dark] .colab-df-convert {\n",
              "      background-color: #3B4455;\n",
              "      fill: #D2E3FC;\n",
              "    }\n",
              "\n",
              "    [theme=dark] .colab-df-convert:hover {\n",
              "      background-color: #434B5C;\n",
              "      box-shadow: 0px 1px 3px 1px rgba(0, 0, 0, 0.15);\n",
              "      filter: drop-shadow(0px 1px 2px rgba(0, 0, 0, 0.3));\n",
              "      fill: #FFFFFF;\n",
              "    }\n",
              "  </style>\n",
              "\n",
              "      <script>\n",
              "        const buttonEl =\n",
              "          document.querySelector('#df-bcc8d042-a58b-4a85-b4fb-a0cc0e1794b5 button.colab-df-convert');\n",
              "        buttonEl.style.display =\n",
              "          google.colab.kernel.accessAllowed ? 'block' : 'none';\n",
              "\n",
              "        async function convertToInteractive(key) {\n",
              "          const element = document.querySelector('#df-bcc8d042-a58b-4a85-b4fb-a0cc0e1794b5');\n",
              "          const dataTable =\n",
              "            await google.colab.kernel.invokeFunction('convertToInteractive',\n",
              "                                                     [key], {});\n",
              "          if (!dataTable) return;\n",
              "\n",
              "          const docLinkHtml = 'Like what you see? Visit the ' +\n",
              "            '<a target=\"_blank\" href=https://colab.research.google.com/notebooks/data_table.ipynb>data table notebook</a>'\n",
              "            + ' to learn more about interactive tables.';\n",
              "          element.innerHTML = '';\n",
              "          dataTable['output_type'] = 'display_data';\n",
              "          await google.colab.output.renderOutput(dataTable, element);\n",
              "          const docLink = document.createElement('div');\n",
              "          docLink.innerHTML = docLinkHtml;\n",
              "          element.appendChild(docLink);\n",
              "        }\n",
              "      </script>\n",
              "    </div>\n",
              "  </div>\n",
              "  "
            ],
            "text/plain": [
              "                       load_weight\n",
              "dropoff_site                      \n",
              "AUSTIN IRON AND METAL        400.0\n",
              "AUSTIN WOOD RECYCLING       4050.0\n",
              "BALCONES RECYCLING          9840.0\n",
              "BALCONES WOODS              8460.0\n",
              "GREAT NORTHERN             11300.0\n",
              "HORNSBY BEND                6400.0\n",
              "MRF                         1360.0\n",
              "ON ROUTE HIGH DUMP         11300.0\n",
              "ONION CREEK                11300.0\n",
              "ORGANICS BY GOSH           11900.0\n",
              "PARK BEND                  12330.0\n",
              "PARK CENTER                11300.0\n",
              "ST. EDWARDS                11300.0\n",
              "STEINER LANDFILL             780.0\n",
              "TDS - MRF                  10330.0\n",
              "TDS LANDFILL               14920.0\n",
              "WESTFIELD                  16020.0\n",
              "WILCAB                     11300.0"
            ]
          },
          "execution_count": 104,
          "metadata": {},
          "output_type": "execute_result"
        }
      ],
      "source": [
        "df.groupby(['dropoff_site']).median()"
      ]
    },
    {
      "cell_type": "code",
      "execution_count": 105,
      "metadata": {
        "colab": {
          "base_uri": "https://localhost:8080/"
        },
        "id": "PdRocHNhapN8",
        "outputId": "87bc3bc9-faeb-4687-bdf1-84dcc1758e32"
      },
      "outputs": [
        {
          "data": {
            "text/plain": [
              "0    TDS LANDFILL\n",
              "dtype: object"
            ]
          },
          "execution_count": 105,
          "metadata": {},
          "output_type": "execute_result"
        }
      ],
      "source": [
        "df['dropoff_site'].mode()"
      ]
    },
    {
      "cell_type": "markdown",
      "metadata": {
        "id": "iZJVGsdrNGa1"
      },
      "source": [
        "Dari central tendency di atas kita bisa menarik insight bahwa rata-rata berat sampah paling kecil ada di site Austin Iron and Metal, sedangkan rata-rata berat sampah paling tinggi ada di Westfield. Data di atas juga menunjukan bahwa site TDS Landfill memiliki jumlah data paling banyak.\n",
        "\n",
        "\n",
        "---\n",
        "\n"
      ]
    },
    {
      "cell_type": "markdown",
      "metadata": {
        "id": "7sMPMytUPXb5"
      },
      "source": [
        "## 4\n",
        "\n",
        "Pilih site yang paling menarik perhatian kamu, dan berikan alasannya."
      ]
    },
    {
      "cell_type": "markdown",
      "metadata": {
        "id": "UCyOxyzJPa85"
      },
      "source": [
        "Saya akan memilih site MRF karena memiliki nilai mean dan median yang cukup berbeda dibandingkan dengan site lainnya\n",
        "\n",
        "\n"
      ]
    },
    {
      "cell_type": "markdown",
      "metadata": {
        "id": "VPA8BNPepxR2"
      },
      "source": [
        "## 5\n",
        "\n",
        "Gunakan site yang kamu pilih untuk dicek apakah data load_weight ada outlier atau tidak. Gunakan teknik yang tepat sesuai dengan distribusi dari datanya!. Jika iya, berapa persen jumlah outliernya? dan bandingkan central tendency data yang telah dikeluarkan outliernya dengan yang belum (hasil dari perhitungan nomor 3)."
      ]
    },
    {
      "cell_type": "markdown",
      "metadata": {
        "id": "J0Y9LGVZwA15"
      },
      "source": [
        "Pertama kita harus mengecek apakah ada outliers secara visual meggunakan box-plot"
      ]
    },
    {
      "cell_type": "code",
      "execution_count": 106,
      "metadata": {
        "colab": {
          "base_uri": "https://localhost:8080/",
          "height": 500
        },
        "id": "vH7-wKoiqwCU",
        "outputId": "769753be-1bdd-41c8-cd72-3729ed2c296c"
      },
      "outputs": [
        {
          "data": {
            "image/png": "[encoded data removed]",
            "text/plain": [
              "<Figure size 720x576 with 1 Axes>"
            ]
          },
          "metadata": {
            "needs_background": "light"
          },
          "output_type": "display_data"
        }
      ],
      "source": [
        "mrf = df[df['dropoff_site'] == 'MRF']\n",
        "mrf['load_weight'].plot(kind='box', title='MRF', figsize=(10,8))\n",
        "plt.show()"
      ]
    },
    {
      "cell_type": "markdown",
      "metadata": {
        "id": "8Z-69fu-wNLw"
      },
      "source": [
        "Dari visual di atas bisa dilihat bahwa `load_weight` pada site `MRF` memiliki beberapa outliers. Tahap selanjutnya adalah mengecek distribusi data."
      ]
    },
    {
      "cell_type": "code",
      "execution_count": 107,
      "metadata": {
        "colab": {
          "base_uri": "https://localhost:8080/",
          "height": 338
        },
        "id": "TcMiHzqPwaWL",
        "outputId": "470fd40b-5ae1-4f05-b84a-6c8aa6b88f96"
      },
      "outputs": [
        {
          "name": "stdout",
          "output_type": "stream",
          "text": [
            "Skewness value :  4.77255984020812\n"
          ]
        },
        {
          "data": {
            "image/png": "[encoded data removed]",
            "text/plain": [
              "<Figure size 720x360 with 1 Axes>"
            ]
          },
          "metadata": {
            "needs_background": "light"
          },
          "output_type": "display_data"
        }
      ],
      "source": [
        "print('Skewness value : ', mrf['load_weight'].skew())\n",
        "mrf['load_weight'].hist(bins=20, figsize=(10,5), color='maroon')\n",
        "plt.show()"
      ]
    },
    {
      "cell_type": "markdown",
      "metadata": {
        "id": "xfAtkSc9wp8o"
      },
      "source": [
        "Histogram di atas menunjukan bahwa distribusi data `load_weight` di site `MRF` tidak berdistribusi normal. Data tersebut memiliki tipe distribusi skewed, lebih tepatnya right skewed dengan nilai skewness 4.77"
      ]
    },
    {
      "cell_type": "markdown",
      "metadata": {
        "id": "pV5bHx7lxJQw"
      },
      "source": [
        "Karena bertipe skewed, kita akan menghandle outliers dengan menggunakan Tukey's Rule"
      ]
    },
    {
      "cell_type": "markdown",
      "metadata": {
        "id": "L_v3Uy4iyN--"
      },
      "source": [
        "Pertama kita harus mencari upper dan lower boundaries terlebih dahulu"
      ]
    },
    {
      "cell_type": "code",
      "execution_count": 108,
      "metadata": {
        "colab": {
          "base_uri": "https://localhost:8080/"
        },
        "id": "v5hIDXajwpiD",
        "outputId": "66c17c03-36af-4ba8-984b-0532e96b55b0"
      },
      "outputs": [
        {
          "name": "stdout",
          "output_type": "stream",
          "text": [
            "Nilai upper boundaries = 4340.0\n",
            "Nilai lower boundaries = -1420.0\n"
          ]
        }
      ],
      "source": [
        "q1 = mrf['load_weight'].quantile(0.25)\n",
        "q3 = mrf['load_weight'].quantile(0.75)\n",
        "iqr = q3 - q1\n",
        "\n",
        "upper = q3 + (iqr * 1.5)\n",
        "lower = q1 - (iqr * 1.5)\n",
        "print(f'Nilai upper boundaries = {upper}')\n",
        "print(f'Nilai lower boundaries = {lower}')"
      ]
    },
    {
      "cell_type": "markdown",
      "metadata": {
        "id": "t5Le66hUyWDY"
      },
      "source": [
        "Setelah mendapatkan nilai upper dan lower boundaries, kita bisa menghapus outliers yang ada di luar upper dan lower boundaries"
      ]
    },
    {
      "cell_type": "code",
      "execution_count": 109,
      "metadata": {
        "colab": {
          "base_uri": "https://localhost:8080/"
        },
        "id": "bC-3mwwTyjTD",
        "outputId": "0b488cfd-9b33-43fd-d805-2e54f126784b"
      },
      "outputs": [
        {
          "data": {
            "text/plain": [
              "4        1640.0\n",
              "5         940.0\n",
              "564        40.0\n",
              "565       100.0\n",
              "749      1440.0\n",
              "          ...  \n",
              "25862     340.0\n",
              "26008    2260.0\n",
              "26009    1260.0\n",
              "26010     800.0\n",
              "26011     560.0\n",
              "Name: load_weight, Length: 161, dtype: float64"
            ]
          },
          "execution_count": 109,
          "metadata": {},
          "output_type": "execute_result"
        }
      ],
      "source": [
        "upper_outliers = (mrf['load_weight'] > upper) \n",
        "lower_outliers = (mrf['load_weight'] < lower)\n",
        "new_mrf = mrf['load_weight'][~(upper_outliers | lower_outliers)]\n",
        "new_mrf"
      ]
    },
    {
      "cell_type": "code",
      "execution_count": 110,
      "metadata": {
        "colab": {
          "base_uri": "https://localhost:8080/",
          "height": 500
        },
        "id": "fENCAS-fy4_V",
        "outputId": "4cc08b8d-465f-445e-b68e-33488af383f3"
      },
      "outputs": [
        {
          "data": {
            "image/png": "[encoded data removed]",
            "text/plain": [
              "<Figure size 720x576 with 1 Axes>"
            ]
          },
          "metadata": {
            "needs_background": "light"
          },
          "output_type": "display_data"
        }
      ],
      "source": [
        "new_mrf.plot(kind='box', title='MRF', figsize=(10,8))\n",
        "plt.show()"
      ]
    },
    {
      "cell_type": "markdown",
      "metadata": {
        "id": "-fnr-A6f6T-3"
      },
      "source": [
        "Kita bisa melihat adanya perubahan pada boxplot saat masih ada outliers dan boxplot saat sudah tidak ada outliers dimana datanya lebih rapih dan tidak berjauhan"
      ]
    },
    {
      "cell_type": "code",
      "execution_count": 111,
      "metadata": {
        "colab": {
          "base_uri": "https://localhost:8080/"
        },
        "id": "kyRCrDkA2MHZ",
        "outputId": "0c5b5d23-1788-4420-de0c-54cf7f01d6fb"
      },
      "outputs": [
        {
          "name": "stdout",
          "output_type": "stream",
          "text": [
            "Jumlah outliers pada site MRF ada 0.041666666666666664 %\n"
          ]
        }
      ],
      "source": [
        "size_mrf = len(mrf)\n",
        "size_new_mrf = len(new_mrf)\n",
        "persen_outliers = (size_mrf - size_new_mrf) / size_mrf\n",
        "print(f'Jumlah outliers pada site MRF ada {persen_outliers} %')"
      ]
    },
    {
      "cell_type": "markdown",
      "metadata": {
        "id": "dG-cNDsO3XDQ"
      },
      "source": [
        "Selanjutnya kita akan membandingkan central tendency antara data yang memiliki outliers dengan yang sudah tidak memiliki outliers"
      ]
    },
    {
      "cell_type": "code",
      "execution_count": 112,
      "metadata": {
        "colab": {
          "base_uri": "https://localhost:8080/"
        },
        "id": "EwEKaPtl3wMZ",
        "outputId": "ee1a66c9-a89a-4b3c-9ffa-17666f78b8bb"
      },
      "outputs": [
        {
          "name": "stdout",
          "output_type": "stream",
          "text": [
            "Mode Sebelum Trimming : 960.0\n",
            "Median Sebelum Trimming : 1360.0\n",
            "Mean Sebelum Trimming : 1799.982142857143\n",
            "Mode Sesudah Trimming : 960.0\n",
            "Median Sesudah Trimming : 1320.0\n",
            "Mean Sesudah Trimming : 1419.0496894409937\n"
          ]
        }
      ],
      "source": [
        "print ('Mode Sebelum Trimming : ' + str(mrf['load_weight'].mode()[0]))\n",
        "print ('Median Sebelum Trimming : ' + str(mrf['load_weight'].median()))\n",
        "print ('Mean Sebelum Trimming : ' + str(mrf['load_weight'].mean()))\n",
        "print ('Mode Sesudah Trimming : ' + str(new_mrf.mode()[0]))\n",
        "print ('Median Sesudah Trimming : ' + str(new_mrf.median()))\n",
        "print ('Mean Sesudah Trimming : ' + str(new_mrf.mean()))"
      ]
    },
    {
      "cell_type": "markdown",
      "metadata": {
        "id": "mk1C3I_46lp3"
      },
      "source": [
        "Setelah dilakukan trimming outliers, kita bisa melihat bahwa tidak ada perubahan pada mode data sedangkan ada perubahan pada mean dan median. Mean dan median setelah trimming lebih kecil dibandingkan dengan mean dan median sebelum trimming yang disebabkan data yang memiliki nilai besar banyak yang dihapus karena termasuk outliers."
      ]
    },
    {
      "cell_type": "markdown",
      "metadata": {
        "id": "P6-CKcH15J0T"
      },
      "source": [
        "## 6\n",
        "\n",
        "Gunakan site yang telah kamu pilih untuk dihitung range, variance, dan standar deviasi untuk data load_weight. Berikan insight dari hasil perhitunganmu kepada pemerintah kota (Pastikan data yang digunakan adalah data yang sudah dibersihkan dari outlier)."
      ]
    },
    {
      "cell_type": "code",
      "execution_count": 113,
      "metadata": {
        "colab": {
          "base_uri": "https://localhost:8080/",
          "height": 424
        },
        "id": "QSRxZuUv5QeY",
        "outputId": "55d90711-cb46-4541-eeca-936d1e5d00ed"
      },
      "outputs": [
        {
          "data": {
            "text/html": [
              "\n",
              "  <div id=\"df-f2171b22-e363-4cb8-b12e-4f89f54acf18\">\n",
              "    <div class=\"colab-df-container\">\n",
              "      <div>\n",
              "<style scoped>\n",
              "    .dataframe tbody tr th:only-of-type {\n",
              "        vertical-align: middle;\n",
              "    }\n",
              "\n",
              "    .dataframe tbody tr th {\n",
              "        vertical-align: top;\n",
              "    }\n",
              "\n",
              "    .dataframe thead th {\n",
              "        text-align: right;\n",
              "    }\n",
              "</style>\n",
              "<table border=\"1\" class=\"dataframe\">\n",
              "  <thead>\n",
              "    <tr style=\"text-align: right;\">\n",
              "      <th></th>\n",
              "      <th>load_weight</th>\n",
              "    </tr>\n",
              "  </thead>\n",
              "  <tbody>\n",
              "    <tr>\n",
              "      <th>4</th>\n",
              "      <td>1640.0</td>\n",
              "    </tr>\n",
              "    <tr>\n",
              "      <th>5</th>\n",
              "      <td>940.0</td>\n",
              "    </tr>\n",
              "    <tr>\n",
              "      <th>564</th>\n",
              "      <td>40.0</td>\n",
              "    </tr>\n",
              "    <tr>\n",
              "      <th>565</th>\n",
              "      <td>100.0</td>\n",
              "    </tr>\n",
              "    <tr>\n",
              "      <th>749</th>\n",
              "      <td>1440.0</td>\n",
              "    </tr>\n",
              "    <tr>\n",
              "      <th>...</th>\n",
              "      <td>...</td>\n",
              "    </tr>\n",
              "    <tr>\n",
              "      <th>25862</th>\n",
              "      <td>340.0</td>\n",
              "    </tr>\n",
              "    <tr>\n",
              "      <th>26008</th>\n",
              "      <td>2260.0</td>\n",
              "    </tr>\n",
              "    <tr>\n",
              "      <th>26009</th>\n",
              "      <td>1260.0</td>\n",
              "    </tr>\n",
              "    <tr>\n",
              "      <th>26010</th>\n",
              "      <td>800.0</td>\n",
              "    </tr>\n",
              "    <tr>\n",
              "      <th>26011</th>\n",
              "      <td>560.0</td>\n",
              "    </tr>\n",
              "  </tbody>\n",
              "</table>\n",
              "<p>161 rows × 1 columns</p>\n",
              "</div>\n",
              "      <button class=\"colab-df-convert\" onclick=\"convertToInteractive('df-f2171b22-e363-4cb8-b12e-4f89f54acf18')\"\n",
              "              title=\"Convert this dataframe to an interactive table.\"\n",
              "              style=\"display:none;\">\n",
              "        \n",
              "  <svg xmlns=\"http://www.w3.org/2000/svg\" height=\"24px\"viewBox=\"0 0 24 24\"\n",
              "       width=\"24px\">\n",
              "    <path d=\"M0 0h24v24H0V0z\" fill=\"none\"/>\n",
              "    <path d=\"M18.56 5.44l.94 2.06.94-2.06 2.06-.94-2.06-.94-.94-2.06-.94 2.06-2.06.94zm-11 1L8.5 8.5l.94-2.06 2.06-.94-2.06-.94L8.5 2.5l-.94 2.06-2.06.94zm10 10l.94 2.06.94-2.06 2.06-.94-2.06-.94-.94-2.06-.94 2.06-2.06.94z\"/><path d=\"M17.41 7.96l-1.37-1.37c-.4-.4-.92-.59-1.43-.59-.52 0-1.04.2-1.43.59L10.3 9.45l-7.72 7.72c-.78.78-.78 2.05 0 2.83L4 21.41c.39.39.9.59 1.41.59.51 0 1.02-.2 1.41-.59l7.78-7.78 2.81-2.81c.8-.78.8-2.07 0-2.86zM5.41 20L4 18.59l7.72-7.72 1.47 1.35L5.41 20z\"/>\n",
              "  </svg>\n",
              "      </button>\n",
              "      \n",
              "  <style>\n",
              "    .colab-df-container {\n",
              "      display:flex;\n",
              "      flex-wrap:wrap;\n",
              "      gap: 12px;\n",
              "    }\n",
              "\n",
              "    .colab-df-convert {\n",
              "      background-color: #E8F0FE;\n",
              "      border: none;\n",
              "      border-radius: 50%;\n",
              "      cursor: pointer;\n",
              "      display: none;\n",
              "      fill: #1967D2;\n",
              "      height: 32px;\n",
              "      padding: 0 0 0 0;\n",
              "      width: 32px;\n",
              "    }\n",
              "\n",
              "    .colab-df-convert:hover {\n",
              "      background-color: #E2EBFA;\n",
              "      box-shadow: 0px 1px 2px rgba(60, 64, 67, 0.3), 0px 1px 3px 1px rgba(60, 64, 67, 0.15);\n",
              "      fill: #174EA6;\n",
              "    }\n",
              "\n",
              "    [theme=dark] .colab-df-convert {\n",
              "      background-color: #3B4455;\n",
              "      fill: #D2E3FC;\n",
              "    }\n",
              "\n",
              "    [theme=dark] .colab-df-convert:hover {\n",
              "      background-color: #434B5C;\n",
              "      box-shadow: 0px 1px 3px 1px rgba(0, 0, 0, 0.15);\n",
              "      filter: drop-shadow(0px 1px 2px rgba(0, 0, 0, 0.3));\n",
              "      fill: #FFFFFF;\n",
              "    }\n",
              "  </style>\n",
              "\n",
              "      <script>\n",
              "        const buttonEl =\n",
              "          document.querySelector('#df-f2171b22-e363-4cb8-b12e-4f89f54acf18 button.colab-df-convert');\n",
              "        buttonEl.style.display =\n",
              "          google.colab.kernel.accessAllowed ? 'block' : 'none';\n",
              "\n",
              "        async function convertToInteractive(key) {\n",
              "          const element = document.querySelector('#df-f2171b22-e363-4cb8-b12e-4f89f54acf18');\n",
              "          const dataTable =\n",
              "            await google.colab.kernel.invokeFunction('convertToInteractive',\n",
              "                                                     [key], {});\n",
              "          if (!dataTable) return;\n",
              "\n",
              "          const docLinkHtml = 'Like what you see? Visit the ' +\n",
              "            '<a target=\"_blank\" href=https://colab.research.google.com/notebooks/data_table.ipynb>data table notebook</a>'\n",
              "            + ' to learn more about interactive tables.';\n",
              "          element.innerHTML = '';\n",
              "          dataTable['output_type'] = 'display_data';\n",
              "          await google.colab.output.renderOutput(dataTable, element);\n",
              "          const docLink = document.createElement('div');\n",
              "          docLink.innerHTML = docLinkHtml;\n",
              "          element.appendChild(docLink);\n",
              "        }\n",
              "      </script>\n",
              "    </div>\n",
              "  </div>\n",
              "  "
            ],
            "text/plain": [
              "       load_weight\n",
              "4           1640.0\n",
              "5            940.0\n",
              "564           40.0\n",
              "565          100.0\n",
              "749         1440.0\n",
              "...            ...\n",
              "25862        340.0\n",
              "26008       2260.0\n",
              "26009       1260.0\n",
              "26010        800.0\n",
              "26011        560.0\n",
              "\n",
              "[161 rows x 1 columns]"
            ]
          },
          "execution_count": 113,
          "metadata": {},
          "output_type": "execute_result"
        }
      ],
      "source": [
        "# Merubah new_mrf dari series menjadi dataframe\n",
        "new_mrf = new_mrf.to_frame(name='load_weight')\n",
        "new_mrf"
      ]
    },
    {
      "cell_type": "markdown",
      "metadata": {
        "id": "ixNM_CmmKDD0"
      },
      "source": [
        "Menghitung range, variance dan standar deviasi dari data di atas"
      ]
    },
    {
      "cell_type": "code",
      "execution_count": 114,
      "metadata": {
        "colab": {
          "base_uri": "https://localhost:8080/"
        },
        "id": "kzypsdKjKCta",
        "outputId": "5a8f0ab4-71df-49c3-cd12-a6077a7b0ba1"
      },
      "outputs": [
        {
          "name": "stdout",
          "output_type": "stream",
          "text": [
            "Load Weight Range = 4080.0\n",
            "Load Weight Variance = 760243.997515528\n",
            "Load Weight Standard Deviation = 871.9197196505696\n"
          ]
        }
      ],
      "source": [
        "range = new_mrf['load_weight'].max() - new_mrf['load_weight'].min()\n",
        "var = new_mrf['load_weight'].var()\n",
        "std = new_mrf['load_weight'].std()\n",
        "\n",
        "print(f'Load Weight Range = {range}')\n",
        "print(f'Load Weight Variance = {var}')\n",
        "print(f'Load Weight Standard Deviation = {std}')"
      ]
    },
    {
      "cell_type": "markdown",
      "metadata": {
        "id": "mz1AxNEzL5eN"
      },
      "source": [
        "Nilai variance yang tinggi menunjukan bahwa data lebih tersebar di sekitaran mean atau rata-rata"
      ]
    },
    {
      "cell_type": "markdown",
      "metadata": {
        "id": "lcmJQaS5MIQ7"
      },
      "source": [
        "## 7\n",
        "\n",
        "Pemerintah kota berencana menambah site baru. Berikan analisa dan saran terkait berapa kapasitas penampungan di site baru berdasarkan perhitungan confidence interval. Data apa yang kamu gunakan, apakah hanya dari satu site saja atau dari keseluruhan site?"
      ]
    },
    {
      "cell_type": "code",
      "execution_count": 115,
      "metadata": {
        "colab": {
          "base_uri": "https://localhost:8080/"
        },
        "id": "6_qI-0eTLPkD",
        "outputId": "bc342596-b6a1-45c4-b0cc-90672e25670f"
      },
      "outputs": [
        {
          "data": {
            "text/plain": [
              "(array([-289.88155848]), array([3127.98093737]))"
            ]
          },
          "execution_count": 115,
          "metadata": {},
          "output_type": "execute_result"
        }
      ],
      "source": [
        "ci = stats.norm.interval(0.95, new_mrf.mean(), std)\n",
        "ci"
      ]
    },
    {
      "cell_type": "markdown",
      "metadata": {
        "id": "X2XaD3OwUh8N"
      },
      "source": [
        "Dari perhitungan di atas, kemungkinan load weight berada di angka -289 sampai 3127. Jadi jika ingin membuat site baru seharusnya memiliki kapasitas penampungan yang bisa mencapai 3127 kg dalam sehari. Data yang saya gunakan ini hanya dari satu site saja yaitu site MRF"
      ]
    },
    {
      "cell_type": "markdown",
      "metadata": {
        "id": "5yfZoSEdMbck"
      },
      "source": [
        "## 8\n",
        "\n",
        "Buatlah analisa uji hipotesis dari data tersebut dari data yang tersedia (kasusnya dibebaskan). Definisikan H0 dan H1 nya serta lakukan perhitungan menggunakan t-test yang sesuai dengan hipotesis kamu. Tulis kesimpulan dari hasil perhitunganmu kepada pemerintah kota (Ingat! pemerintah kota tidak mengerti p-value, hipotesis diterima/tidak diterima, jadi gunakan bahasa yang lebih manusiawi!)."
      ]
    },
    {
      "cell_type": "markdown",
      "metadata": {
        "id": "5LlQlYdcfHMo"
      },
      "source": [
        "Saya ingin coba membandingkan apakah berat rata-rata harian antara dua `load_type` berbeda secara signifikan atau tidak dengan menggunakan two samples independent two tailed test. `load_type` yang dipilih adalah 'RECYCLING - SINGLE STREAM' dan 'ORGANICS'."
      ]
    },
    {
      "cell_type": "code",
      "execution_count": 116,
      "metadata": {
        "colab": {
          "base_uri": "https://localhost:8080/"
        },
        "id": "YGTIYeHQgBJu",
        "outputId": "b86d42e9-188a-4a2b-e6ae-ebee7f01125d"
      },
      "outputs": [
        {
          "name": "stdout",
          "output_type": "stream",
          "text": [
            "Rata-rata load weight dari RECYCLING - SINGLE STREAM adalah = 492079.0\n",
            "Rata-rata load weight dari ORGANICS adalah = 453924.0\n"
          ]
        }
      ],
      "source": [
        "rec = df[df['load_type'] =='RECYCLING - SINGLE STREAM' ][['report_date','load_weight']].groupby('report_date').sum()\n",
        "org = df[df['load_type'] =='ORGANICS' ][['report_date','load_weight']].groupby('report_date').sum()\n",
        "\n",
        "print(f'Rata-rata load weight dari RECYCLING - SINGLE STREAM adalah = {np.round(rec.load_weight.mean())}')\n",
        "print(f'Rata-rata load weight dari ORGANICS adalah = {np.round(org.load_weight.mean())}')"
      ]
    },
    {
      "cell_type": "markdown",
      "metadata": {
        "id": "wsLdYN0iinYh"
      },
      "source": [
        "Jadi Hipotesis untuk kasus ini adalah :\n",
        "\n",
        "**H0 : μ_RECYCLING - SINGLE STREAM = μ_ORGANICS**\n",
        "\n",
        "**H1 : μ_RECYCLING - SINGLE STREAM != μ_ORGANICS**"
      ]
    },
    {
      "cell_type": "code",
      "execution_count": 117,
      "metadata": {
        "colab": {
          "base_uri": "https://localhost:8080/"
        },
        "id": "De6KBzgZjIGA",
        "outputId": "1c57f892-2344-4acc-f990-0e0d53b2fd51"
      },
      "outputs": [
        {
          "name": "stdout",
          "output_type": "stream",
          "text": [
            "P-value: 0.12221310922081759\n",
            "t-statistics: 1.5502413751392106\n"
          ]
        }
      ],
      "source": [
        "t_stat, p_val = stats.ttest_ind(rec, org)\n",
        "print('P-value:',p_val[0]) #the p-value isn't divided by 2 since the output is two-sided p-value\n",
        "print('t-statistics:',t_stat[0])"
      ]
    },
    {
      "cell_type": "code",
      "execution_count": 118,
      "metadata": {
        "colab": {
          "base_uri": "https://localhost:8080/",
          "height": 0
        },
        "id": "oK4ae_OFqzL2",
        "outputId": "ccb15c8e-caee-4720-a009-fc68f35b6576"
      },
      "outputs": [
        {
          "name": "stderr",
          "output_type": "stream",
          "text": [
            "/usr/local/lib/python3.7/dist-packages/seaborn/distributions.py:2619: FutureWarning: `distplot` is a deprecated function and will be removed in a future version. Please adapt your code to use either `displot` (a figure-level function with similar flexibility) or `histplot` (an axes-level function for histograms).\n",
            "  warnings.warn(msg, FutureWarning)\n",
            "/usr/local/lib/python3.7/dist-packages/seaborn/distributions.py:2619: FutureWarning: `distplot` is a deprecated function and will be removed in a future version. Please adapt your code to use either `displot` (a figure-level function with similar flexibility) or `histplot` (an axes-level function for histograms).\n",
            "  warnings.warn(msg, FutureWarning)\n"
          ]
        },
        {
          "data": {
            "text/plain": [
              "<matplotlib.legend.Legend at 0x7fc72b3a5890>"
            ]
          },
          "execution_count": 118,
          "metadata": {},
          "output_type": "execute_result"
        },
        {
          "data": {
            "image/png": "[encoded data removed]",
            "text/plain": [
              "<Figure size 1152x360 with 1 Axes>"
            ]
          },
          "metadata": {
            "needs_background": "light"
          },
          "output_type": "display_data"
        }
      ],
      "source": [
        "rec_pop = np.random.normal(rec.load_weight.mean(),rec.load_weight.std(),26157)\n",
        "org_pop = np.random.normal(org.load_weight.mean(),org.load_weight.std(),26157)\n",
        "\n",
        "ci = stats.norm.interval(0.95, rec.load_weight.mean(), rec.load_weight.std())\n",
        "plt.figure(figsize=(16,5))\n",
        "sns.distplot(rec_pop, label='Rata-rata Load Weight Recycling *Pop',color='blue')\n",
        "sns.distplot(org_pop, label='Rata-rata Load Weight Organics *Pop',color='red')\n",
        "\n",
        "plt.axvline(rec.load_weight.mean(), color='blue', linewidth=2, label='Rata-rata Recycling')\n",
        "plt.axvline(org.load_weight.mean(), color='red',  linewidth=2, label='Rata-rata Organics')\n",
        "\n",
        "plt.axvline(ci[1], color='green', linestyle='dashed', linewidth=2, label='confidence threshold of 95%')\n",
        "plt.axvline(ci[0], color='green', linestyle='dashed', linewidth=2)\n",
        "\n",
        "plt.axvline(rec_pop.mean()+t_stat[0]*rec_pop.std(), color='black', linestyle='dashed', linewidth=2, label = 'Alternative Hypothesis')\n",
        "plt.axvline(rec_pop.mean()-t_stat[0]*rec_pop.std(), color='black', linestyle='dashed', linewidth=2)\n",
        "\n",
        "plt.legend()"
      ]
    },
    {
      "cell_type": "markdown",
      "metadata": {
        "id": "VsNtKfiWuz3u"
      },
      "source": [
        "Berdasarkan data di atas, kita gagal menolak H0 yang artinya antara **Recycling** dan **Organics** tidak berbeda secara signifikan dalam hal rata-rata berat sampah harian."
      ]
    },
    {
      "cell_type": "markdown",
      "metadata": {
        "id": "vbw6y88WMjr6"
      },
      "source": [
        "## Pertanyaan"
      ]
    },
    {
      "cell_type": "markdown",
      "metadata": {
        "id": "VUnurmqBMqid"
      },
      "source": [
        "- Teknik apa yang kamu pilih untuk handling outlier? jelaskan alasannya!\n",
        "\n",
        "    Teknik yang saya gunakan adalah Tukey's Rule karena distribusi data yang bertipe skewed dimana dalam kasus saya adalah right skewed\n"
      ]
    },
    {
      "cell_type": "markdown",
      "metadata": {
        "id": "jAAdHFACNTBV"
      },
      "source": [
        "- Apa konsep dibalik confidence interval sehingga kita dapat menggunakannya untuk menyelesaikan langkah pada nomor 7?\n",
        "\n",
        "   Karena kita hanya menggunakan sampel dari populasi, maka hasil perhitungan sampel kita pasti akan memiliki error atau berbeda dari populasi. Confidence Interval merupakan suatu rentang nilai yang didapatkan dari suatu sampel yang nantinya bisa digunakan untuk suatu populasi. Dalam kasus no 7, kita hanya menghitung rata-rata dan standar deviasi dari suatu site, dengan menghitung confidence interval, kita bisa menggunakan hasil perhitungan dari suatu site untuk mewakili keseluruhan populasi dalam bentuk rentang nilai."
      ]
    },
    {
      "cell_type": "markdown",
      "metadata": {
        "id": "klzCCwQJNcSC"
      },
      "source": [
        "- Jelaskan jenis uji hipotesis apa yang kamu terapkan dan mengapa?\n",
        "\n",
        "  Jenis uji hipotesis yang saya gunakan adalah two samples independent two tailed test karena saya ingin mengukur hubungan antara 2 variabel yang memiliki rata-rata yang berbeda."
      ]
    },
    {
      "cell_type": "markdown",
      "metadata": {
        "id": "DqW1HArcHLCR"
      },
      "source": [
        "# Problem 2 (Math/Calculus)"
      ]
    },
    {
      "cell_type": "markdown",
      "metadata": {
        "id": "01x9n5KOHQwJ"
      },
      "source": [
        "Pada permasalahan yang sama, pemerintah ingin tau berapa banyak load sampah dalam kg di kota Austin di hari berikutnya (10 Juli 2021). Dalam hal ini, pemerintah menginginkan kamu melakukan forecasting untuk memprediksi nilai di masa depan. Ada banyak teknik forecasting yang bisa dilakukan tapi kamu tidak perlu khawatir, kita akan menggunakan yang metode yang sangat sederhana yaitu menggunakan rumus kecepatan."
      ]
    },
    {
      "cell_type": "markdown",
      "metadata": {
        "id": "2U7kOp2x5P_n"
      },
      "source": [
        "Pertama kita akan mengambil data jumlah `load_weight` setiap harinya"
      ]
    },
    {
      "cell_type": "code",
      "execution_count": 90,
      "metadata": {
        "colab": {
          "base_uri": "https://localhost:8080/",
          "height": 424
        },
        "id": "AhueiBjiAhNI",
        "outputId": "05ca9627-1f22-44f6-dc20-b307afcf11b9"
      },
      "outputs": [
        {
          "data": {
            "text/html": [
              "\n",
              "  <div id=\"df-29d32e3c-d487-42fa-9daa-f46a067416a6\">\n",
              "    <div class=\"colab-df-container\">\n",
              "      <div>\n",
              "<style scoped>\n",
              "    .dataframe tbody tr th:only-of-type {\n",
              "        vertical-align: middle;\n",
              "    }\n",
              "\n",
              "    .dataframe tbody tr th {\n",
              "        vertical-align: top;\n",
              "    }\n",
              "\n",
              "    .dataframe thead th {\n",
              "        text-align: right;\n",
              "    }\n",
              "</style>\n",
              "<table border=\"1\" class=\"dataframe\">\n",
              "  <thead>\n",
              "    <tr style=\"text-align: right;\">\n",
              "      <th></th>\n",
              "      <th>report_date</th>\n",
              "      <th>load_weight</th>\n",
              "    </tr>\n",
              "  </thead>\n",
              "  <tbody>\n",
              "    <tr>\n",
              "      <th>0</th>\n",
              "      <td>2021-01-01</td>\n",
              "      <td>45200.0</td>\n",
              "    </tr>\n",
              "    <tr>\n",
              "      <th>1</th>\n",
              "      <td>2021-01-02</td>\n",
              "      <td>2204030.0</td>\n",
              "    </tr>\n",
              "    <tr>\n",
              "      <th>2</th>\n",
              "      <td>2021-01-04</td>\n",
              "      <td>2920260.0</td>\n",
              "    </tr>\n",
              "    <tr>\n",
              "      <th>3</th>\n",
              "      <td>2021-01-05</td>\n",
              "      <td>2399840.0</td>\n",
              "    </tr>\n",
              "    <tr>\n",
              "      <th>4</th>\n",
              "      <td>2021-01-06</td>\n",
              "      <td>2453050.0</td>\n",
              "    </tr>\n",
              "    <tr>\n",
              "      <th>...</th>\n",
              "      <td>...</td>\n",
              "      <td>...</td>\n",
              "    </tr>\n",
              "    <tr>\n",
              "      <th>161</th>\n",
              "      <td>2021-07-05</td>\n",
              "      <td>1897290.0</td>\n",
              "    </tr>\n",
              "    <tr>\n",
              "      <th>162</th>\n",
              "      <td>2021-07-06</td>\n",
              "      <td>1989440.0</td>\n",
              "    </tr>\n",
              "    <tr>\n",
              "      <th>163</th>\n",
              "      <td>2021-07-07</td>\n",
              "      <td>1654780.0</td>\n",
              "    </tr>\n",
              "    <tr>\n",
              "      <th>164</th>\n",
              "      <td>2021-07-08</td>\n",
              "      <td>1541950.0</td>\n",
              "    </tr>\n",
              "    <tr>\n",
              "      <th>165</th>\n",
              "      <td>2021-07-09</td>\n",
              "      <td>176840.0</td>\n",
              "    </tr>\n",
              "  </tbody>\n",
              "</table>\n",
              "<p>166 rows × 2 columns</p>\n",
              "</div>\n",
              "      <button class=\"colab-df-convert\" onclick=\"convertToInteractive('df-29d32e3c-d487-42fa-9daa-f46a067416a6')\"\n",
              "              title=\"Convert this dataframe to an interactive table.\"\n",
              "              style=\"display:none;\">\n",
              "        \n",
              "  <svg xmlns=\"http://www.w3.org/2000/svg\" height=\"24px\"viewBox=\"0 0 24 24\"\n",
              "       width=\"24px\">\n",
              "    <path d=\"M0 0h24v24H0V0z\" fill=\"none\"/>\n",
              "    <path d=\"M18.56 5.44l.94 2.06.94-2.06 2.06-.94-2.06-.94-.94-2.06-.94 2.06-2.06.94zm-11 1L8.5 8.5l.94-2.06 2.06-.94-2.06-.94L8.5 2.5l-.94 2.06-2.06.94zm10 10l.94 2.06.94-2.06 2.06-.94-2.06-.94-.94-2.06-.94 2.06-2.06.94z\"/><path d=\"M17.41 7.96l-1.37-1.37c-.4-.4-.92-.59-1.43-.59-.52 0-1.04.2-1.43.59L10.3 9.45l-7.72 7.72c-.78.78-.78 2.05 0 2.83L4 21.41c.39.39.9.59 1.41.59.51 0 1.02-.2 1.41-.59l7.78-7.78 2.81-2.81c.8-.78.8-2.07 0-2.86zM5.41 20L4 18.59l7.72-7.72 1.47 1.35L5.41 20z\"/>\n",
              "  </svg>\n",
              "      </button>\n",
              "      \n",
              "  <style>\n",
              "    .colab-df-container {\n",
              "      display:flex;\n",
              "      flex-wrap:wrap;\n",
              "      gap: 12px;\n",
              "    }\n",
              "\n",
              "    .colab-df-convert {\n",
              "      background-color: #E8F0FE;\n",
              "      border: none;\n",
              "      border-radius: 50%;\n",
              "      cursor: pointer;\n",
              "      display: none;\n",
              "      fill: #1967D2;\n",
              "      height: 32px;\n",
              "      padding: 0 0 0 0;\n",
              "      width: 32px;\n",
              "    }\n",
              "\n",
              "    .colab-df-convert:hover {\n",
              "      background-color: #E2EBFA;\n",
              "      box-shadow: 0px 1px 2px rgba(60, 64, 67, 0.3), 0px 1px 3px 1px rgba(60, 64, 67, 0.15);\n",
              "      fill: #174EA6;\n",
              "    }\n",
              "\n",
              "    [theme=dark] .colab-df-convert {\n",
              "      background-color: #3B4455;\n",
              "      fill: #D2E3FC;\n",
              "    }\n",
              "\n",
              "    [theme=dark] .colab-df-convert:hover {\n",
              "      background-color: #434B5C;\n",
              "      box-shadow: 0px 1px 3px 1px rgba(0, 0, 0, 0.15);\n",
              "      filter: drop-shadow(0px 1px 2px rgba(0, 0, 0, 0.3));\n",
              "      fill: #FFFFFF;\n",
              "    }\n",
              "  </style>\n",
              "\n",
              "      <script>\n",
              "        const buttonEl =\n",
              "          document.querySelector('#df-29d32e3c-d487-42fa-9daa-f46a067416a6 button.colab-df-convert');\n",
              "        buttonEl.style.display =\n",
              "          google.colab.kernel.accessAllowed ? 'block' : 'none';\n",
              "\n",
              "        async function convertToInteractive(key) {\n",
              "          const element = document.querySelector('#df-29d32e3c-d487-42fa-9daa-f46a067416a6');\n",
              "          const dataTable =\n",
              "            await google.colab.kernel.invokeFunction('convertToInteractive',\n",
              "                                                     [key], {});\n",
              "          if (!dataTable) return;\n",
              "\n",
              "          const docLinkHtml = 'Like what you see? Visit the ' +\n",
              "            '<a target=\"_blank\" href=https://colab.research.google.com/notebooks/data_table.ipynb>data table notebook</a>'\n",
              "            + ' to learn more about interactive tables.';\n",
              "          element.innerHTML = '';\n",
              "          dataTable['output_type'] = 'display_data';\n",
              "          await google.colab.output.renderOutput(dataTable, element);\n",
              "          const docLink = document.createElement('div');\n",
              "          docLink.innerHTML = docLinkHtml;\n",
              "          element.appendChild(docLink);\n",
              "        }\n",
              "      </script>\n",
              "    </div>\n",
              "  </div>\n",
              "  "
            ],
            "text/plain": [
              "    report_date  load_weight\n",
              "0    2021-01-01      45200.0\n",
              "1    2021-01-02    2204030.0\n",
              "2    2021-01-04    2920260.0\n",
              "3    2021-01-05    2399840.0\n",
              "4    2021-01-06    2453050.0\n",
              "..          ...          ...\n",
              "161  2021-07-05    1897290.0\n",
              "162  2021-07-06    1989440.0\n",
              "163  2021-07-07    1654780.0\n",
              "164  2021-07-08    1541950.0\n",
              "165  2021-07-09     176840.0\n",
              "\n",
              "[166 rows x 2 columns]"
            ]
          },
          "execution_count": 90,
          "metadata": {},
          "output_type": "execute_result"
        }
      ],
      "source": [
        "data = df.groupby('report_date', sort = True, as_index = False)['load_weight'].sum()\n",
        "data"
      ]
    },
    {
      "cell_type": "markdown",
      "metadata": {
        "id": "wCM7wFyU5edJ"
      },
      "source": [
        "Setelah itu membutuhkan data untuk sumbu x dan y. Kita menggunakan array yang berisi index dari 0 sampai panjang data untuk sumbu x."
      ]
    },
    {
      "cell_type": "code",
      "execution_count": 91,
      "metadata": {
        "colab": {
          "base_uri": "https://localhost:8080/"
        },
        "id": "J5tvAw9OE_Cv",
        "outputId": "9c6f540b-f306-4b38-ebe6-9461114f53b7"
      },
      "outputs": [
        {
          "data": {
            "text/plain": [
              "array([  0.,   1.,   2.,   3.,   4.,   5.,   6.,   7.,   8.,   9.,  10.,\n",
              "        11.,  12.,  13.,  14.,  15.,  16.,  17.,  18.,  19.,  20.,  21.,\n",
              "        22.,  23.,  24.,  25.,  26.,  27.,  28.,  29.,  30.,  31.,  32.,\n",
              "        33.,  34.,  35.,  36.,  37.,  38.,  39.,  40.,  41.,  42.,  43.,\n",
              "        44.,  45.,  46.,  47.,  48.,  49.,  50.,  51.,  52.,  53.,  54.,\n",
              "        55.,  56.,  57.,  58.,  59.,  60.,  61.,  62.,  63.,  64.,  65.,\n",
              "        66.,  67.,  68.,  69.,  70.,  71.,  72.,  73.,  74.,  75.,  76.,\n",
              "        77.,  78.,  79.,  80.,  81.,  82.,  83.,  84.,  85.,  86.,  87.,\n",
              "        88.,  89.,  90.,  91.,  92.,  93.,  94.,  95.,  96.,  97.,  98.,\n",
              "        99., 100., 101., 102., 103., 104., 105., 106., 107., 108., 109.,\n",
              "       110., 111., 112., 113., 114., 115., 116., 117., 118., 119., 120.,\n",
              "       121., 122., 123., 124., 125., 126., 127., 128., 129., 130., 131.,\n",
              "       132., 133., 134., 135., 136., 137., 138., 139., 140., 141., 142.,\n",
              "       143., 144., 145., 146., 147., 148., 149., 150., 151., 152., 153.,\n",
              "       154., 155., 156., 157., 158., 159., 160., 161., 162., 163., 164.,\n",
              "       165.])"
            ]
          },
          "execution_count": 91,
          "metadata": {},
          "output_type": "execute_result"
        }
      ],
      "source": [
        "x = np.linspace(0, (len(data)-1), len(data))\n",
        "x"
      ]
    },
    {
      "cell_type": "markdown",
      "metadata": {
        "id": "oWcl8Mnz5xSG"
      },
      "source": [
        "Kita akan menjadikan data `load_weight` menjadi array untuk sumbu y"
      ]
    },
    {
      "cell_type": "code",
      "execution_count": 92,
      "metadata": {
        "colab": {
          "base_uri": "https://localhost:8080/"
        },
        "id": "N2AvoN1nGQRV",
        "outputId": "4a63cc0c-c907-4912-9cc1-780beb6d9d48"
      },
      "outputs": [
        {
          "data": {
            "text/plain": [
              "<PandasArray>\n",
              "[  45200.0, 2204030.0, 2920260.0, 2399840.0, 2453050.0, 2517430.0, 1912750.0,\n",
              "   62040.0, 2507910.0, 2085220.0,\n",
              " ...\n",
              " 2078290.0, 2078320.0, 2079170.0, 1739720.0,  276040.0, 1897290.0, 1989440.0,\n",
              " 1654780.0, 1541950.0,  176840.0]\n",
              "Length: 166, dtype: float64"
            ]
          },
          "execution_count": 92,
          "metadata": {},
          "output_type": "execute_result"
        }
      ],
      "source": [
        "y = data.iloc[:, 1]\n",
        "y = y.array\n",
        "y"
      ]
    },
    {
      "cell_type": "markdown",
      "metadata": {
        "id": "tH-cJNG55-9p"
      },
      "source": [
        "Setelah memiliki array x dan y maka kita bisa melakukan perhitungan turunan menggunakan fungsi gradient."
      ]
    },
    {
      "cell_type": "code",
      "execution_count": 93,
      "metadata": {
        "colab": {
          "base_uri": "https://localhost:8080/"
        },
        "id": "xqWUQbaDXzsE",
        "outputId": "6f699200-4a16-4456-b845-dff22bf313a3"
      },
      "outputs": [
        {
          "data": {
            "text/plain": [
              "array([ 2.15883000e+06,  1.43753000e+06,  9.79050000e+04, -2.33605000e+05,\n",
              "        5.87950000e+04, -2.70150000e+05, -1.22769500e+06,  2.97580000e+05,\n",
              "        1.01159000e+06, -1.80115000e+05,  5.85650000e+04, -1.64495000e+05,\n",
              "       -1.05549500e+06,  3.34080000e+05,  1.10360000e+06, -1.05460000e+05,\n",
              "       -5.44450000e+04, -2.03465000e+05, -9.80795000e+05,  3.48225000e+05,\n",
              "        9.37285000e+05, -1.82305000e+05,  5.02550000e+04, -2.04585000e+05,\n",
              "       -1.07891000e+06,  3.29555000e+05,  1.02241000e+06, -2.06850000e+05,\n",
              "        3.18100000e+04, -1.11035000e+05, -1.04741000e+06, -9.00415000e+05,\n",
              "        1.30428500e+06,  1.13005000e+06, -1.51415000e+05, -7.00980000e+05,\n",
              "       -2.29460000e+05, -4.19720000e+05, -4.10790000e+05,  1.85615000e+06,\n",
              "        1.07829000e+06, -1.80905000e+05,  9.75100000e+04, -4.37785000e+05,\n",
              "       -1.57066000e+06, -1.12695000e+06,  1.45513000e+06,  1.32781000e+06,\n",
              "       -1.55630000e+05, -4.78000000e+03, -1.74172500e+05, -1.29842000e+06,\n",
              "       -1.18031750e+06,  1.51050500e+06,  1.52085000e+06, -1.76550000e+05,\n",
              "       -1.55725000e+05, -2.32665000e+05, -1.27455500e+06, -9.40490000e+05,\n",
              "        1.33984000e+06,  1.03936000e+06, -2.58660000e+05, -6.16250000e+04,\n",
              "       -1.89550000e+05, -1.17958500e+06, -9.05670000e+05,  1.37431506e+06,\n",
              "        1.16038006e+06, -1.11305062e+05,  4.50399418e+04, -1.78100000e+05,\n",
              "       -1.06994600e+06, -1.06915000e+06,  1.19203600e+06,  1.27956000e+06,\n",
              "       -2.84330000e+05, -1.04440000e+05, -2.45895000e+05, -1.26805000e+06,\n",
              "        1.46030000e+05,  1.18697000e+06, -1.33350000e+04, -7.98260000e+04,\n",
              "       -8.10900000e+04, -1.06416400e+06,  3.34925000e+05,  1.27261000e+06,\n",
              "       -5.52050000e+04, -1.13165000e+05, -2.58460000e+05, -1.06827500e+06,\n",
              "       -1.03772000e+06,  1.18503500e+06,  1.17910000e+06, -1.44815000e+05,\n",
              "       -2.14800000e+04, -2.43890000e+05, -9.90280000e+05,  2.99549000e+05,\n",
              "        1.01229000e+06, -1.43090000e+04, -8.32500000e+04, -2.90290000e+05,\n",
              "       -9.92990000e+05,  3.44605000e+05,  1.03379000e+06, -9.17500000e+04,\n",
              "        1.31600000e+04, -1.47600000e+05, -9.87380000e+05,  2.33875000e+05,\n",
              "        1.03390500e+06, -6.63400000e+04,  3.30000000e+04, -2.03200000e+05,\n",
              "       -1.13576500e+06,  3.42590000e+05,  1.09508000e+06, -1.82210000e+05,\n",
              "       -8.59750000e+04, -2.63545000e+05, -1.07434500e+06,  2.65429500e+05,\n",
              "        1.10594500e+06,  3.11940000e+04,  6.54400000e+04, -3.06883500e+05,\n",
              "       -1.17921500e+06, -9.13915000e+05,  1.27924500e+06,  1.20820000e+06,\n",
              "       -3.32600000e+04,  5.20300000e+04, -2.12345000e+05, -1.10677000e+06,\n",
              "        3.71660000e+05,  1.09393500e+06, -1.89504851e+05, -1.03900000e+04,\n",
              "       -2.35810149e+05, -1.11580500e+06,  3.52150000e+05,  9.90080000e+05,\n",
              "       -2.06805000e+05,  3.48450000e+04, -2.24630000e+05, -1.08360500e+06,\n",
              "        4.02505000e+05,  1.02820500e+06, -1.87375000e+05,  1.46000000e+04,\n",
              "       -3.15915000e+05, -1.06954500e+06,  4.71040000e+05,  1.00234500e+06,\n",
              "       -2.54035000e+05,  4.40000000e+02, -1.69300000e+05, -9.01565000e+05,\n",
              "        7.87850000e+04,  8.56700000e+05, -1.21255000e+05, -2.23745000e+05,\n",
              "       -7.38970000e+05, -1.36511000e+06])"
            ]
          },
          "execution_count": 93,
          "metadata": {},
          "output_type": "execute_result"
        }
      ],
      "source": [
        "df2 = np.gradient(y,x)\n",
        "df2"
      ]
    },
    {
      "cell_type": "markdown",
      "metadata": {
        "id": "JG5XY6Xr6I3P"
      },
      "source": [
        "Saat semua data sudah lengkap, kita bisa mulai menghitung degan rumus yang sudah disediakan di soal dan mendapatkan prediksi berat sampah untuk tanggal 10 Juli 2021"
      ]
    },
    {
      "cell_type": "code",
      "execution_count": 94,
      "metadata": {
        "colab": {
          "base_uri": "https://localhost:8080/"
        },
        "id": "6EE7nCsbBNpK",
        "outputId": "613d72b9-6511-43ae-f3e2-d235cd725ef8"
      },
      "outputs": [
        {
          "name": "stdout",
          "output_type": "stream",
          "text": [
            "Prediksi berat sampah pada tanggal 10 Juli 2021 adalah 1188270.0\n"
          ]
        }
      ],
      "source": [
        "# rumus\n",
        "delta_t = x[-1] - x[-2]\n",
        "v = df2[-1]\n",
        "w_besok = y[-1] + (v * delta_t)\n",
        "print(f'Prediksi berat sampah pada tanggal 10 Juli 2021 adalah {abs(w_besok)}')"
      ]
    },
    {
      "cell_type": "markdown",
      "metadata": {
        "id": "d5kHtIlx5MCQ"
      },
      "source": [
        "## Pertanyaan"
      ]
    },
    {
      "cell_type": "markdown",
      "metadata": {
        "id": "KrW-jzFc6nB-"
      },
      "source": [
        "- Untuk menghitung turunan pertama dapat digunakan metode simbolik dan numerik, untuk kasus ini, teknik apa yang kamu gunakan?\n",
        "\n",
        "  Untuk menghitung turunan pertama saya menggunakan metode numerik karena data yang ada berupa array."
      ]
    },
    {
      "cell_type": "markdown",
      "metadata": {
        "id": "2NnmGki06uqQ"
      },
      "source": [
        "- Apakah kamu membutuhkan fungsi matematis untuk menghitung turunannya? (ya/tidak) berikan alasanmu!\n",
        "\n",
        "  Saya menggunakan fungsi matematis dari numpy yang bernama gradient untuk menghitung turunan"
      ]
    },
    {
      "cell_type": "markdown",
      "metadata": {
        "id": "5LQVcL7_694-"
      },
      "source": [
        "- Berapa load weight yang kamu perkirakan di hari esok (10 Juli 2021\n",
        "\n",
        "  Load weight yang diperkirakan untuk tanggal 10 Juli 2021 adalah 1188270 kg"
      ]
    }
  ],
  "metadata": {
    "colab": {
      "collapsed_sections": [
        "M5vK-l1uG-9G",
        "uHEDvxLBK3rV",
        "oH5lfGGJK93t",
        "aoB3idovHEVX",
        "Om0OKtIvL2bO",
        "00eAlTKtAdxv",
        "UyrkXCkGPQ_Z",
        "7sMPMytUPXb5",
        "VPA8BNPepxR2",
        "P6-CKcH15J0T",
        "lcmJQaS5MIQ7",
        "5yfZoSEdMbck",
        "vbw6y88WMjr6",
        "DqW1HArcHLCR"
      ],
      "name": "h8dsft_P0W2_immanuel_yosia_alfrenco.ipynb",
      "provenance": []
    },
    "kernelspec": {
      "display_name": "Python 3.9.12",
      "language": "python",
      "name": "python3"
    },
    "language_info": {
      "codemirror_mode": {
        "name": "ipython",
        "version": 3
      },
      "file_extension": ".py",
      "mimetype": "text/x-python",
      "name": "python",
      "nbconvert_exporter": "python",
      "pygments_lexer": "ipython3",
      "version": "3.9.12"
    },
    "vscode": {
      "interpreter": {
        "hash": "2f4dead4ba0db89fa5b502bee2f7441251649722e54d64f442262b0263246696"
      }
    }
  },
  "nbformat": 4,
  "nbformat_minor": 0
}
